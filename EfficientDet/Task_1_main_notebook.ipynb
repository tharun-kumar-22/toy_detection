{
 "cells": [
  {
   "cell_type": "markdown",
   "id": "45f1e96a",
   "metadata": {},
   "source": [
    "# Task-1"
   ]
  },
  {
   "cell_type": "markdown",
   "id": "5c01872d",
   "metadata": {},
   "source": [
    "**Assignment 1: Object Detection for a Toy Manufacturer (10 Points)**\n",
    "\n",
    "A well-known toy manufacturer has approached you with a challenge related to the development of a sorting line. Among several contractors, you have been assigned the task of detecting the manufacturer’s products on a conveyor belt. You previously submitted a proposal for a Proof of Concept (PoC), which has now been accepted.\n",
    "\n",
    "Your main task is to train an object detection model capable of recognizing the client’s products. You may disregard the integration into the actual conveyor system for now."
   ]
  },
  {
   "cell_type": "markdown",
   "id": "3f03be54",
   "metadata": {},
   "source": [
    "However, the model must be robust to varying orientations of the objects — the toys may appear from any angle except from underneath, as they will never be placed upside down.\n",
    "\n",
    "Each group will receive a bag of objects that need to be detected by the model.\n",
    "\n",
    "Your work is divided into the following sub-tasks:"
   ]
  },
  {
   "cell_type": "markdown",
   "id": "67949d42",
   "metadata": {},
   "source": [
    "####  1.1. Design a Data Collection Strategy\n",
    "\n",
    "Plan and implement your own data acquisition process. Create a custom dataset including proper annotations for object detection.\n",
    "\n",
    "Tip: For object annotation, you can use tools like Label Studio, which allows you to easily annotate images with bounding boxes and export the data in common formats (e.g., COCO or Pascal VOC)."
   ]
  },
  {
   "cell_type": "markdown",
   "id": "cdcfd686",
   "metadata": {},
   "source": [
    "## Data Collection and Labeling Strategy\n",
    "\n",
    "### 1. Real Image Collection\n",
    "\n",
    "To train a robust model for toy detection on a conveyor belt, we captured real images of the client’s toy products—**donkey** and **tortoise**—from **all possible angles**, including **upside down**. This simulates real-world conditions where toys can land on the conveyor in unpredictable orientations.\n",
    "\n",
    "- **Background**: All images were taken against a **black background** to replicate the conveyor belt.\n",
    "- **Dataset Breakdown**:\n",
    "  - 53 images of **donkey only**\n",
    "  - 123 images of **tortoise only**\n",
    "  - 23 images with **both donkey and tortoise**\n",
    "\n",
    "**Total real images: 199**\n",
    "\n",
    "---\n",
    "\n",
    "### 2. Labeling Real Images\n",
    "\n",
    "All real images were labeled using **Label Studio** and exported in **Pascal VOC format**, generating XML files with object class names and bounding boxes.\n",
    "\n",
    "---\n",
    "\n",
    "### 3. Synthetic Image Generation\n",
    "\n",
    "To enhance the dataset and improve model performance, we generated **300 synthetic images** using a custom **Python script**. Here's the approach:\n",
    "\n",
    "- Croped both toys tightly\n",
    "\n",
    "#### a. Centered Placement (100 images)\n",
    "- 50 donkey and 50 tortoise images placed at the **center** of 512×512 black canvases.\n",
    "\n",
    "#### b. Random Placement (100 images)\n",
    "- 50 donkey and 50 tortoise images placed at **random positions** within 512×512 canvases.\n",
    "\n",
    "#### c. Dual Object Placement (100 images)\n",
    "- Each image contains both **donkey and tortoise**, placed **randomly without overlapping**.\n",
    "\n",
    "All toys were rotated randomly in steps of 30 degrees to simulate various orientations.\n",
    "\n",
    "Bounding boxes were calculated for each placement, and labels were saved in **VOC XML format**.\n",
    "\n",
    "---\n",
    "\n",
    "### 4. Python Script Summary\n",
    "\n",
    "We developed a script that:\n",
    "- Loads and rotates toy images\n",
    "- Places them on a black 512×512 background\n",
    "- Generates corresponding VOC-style XML labels\n",
    "\n",
    "This automation ensures consistent, varied, and accurate labeling.\n",
    "\n",
    "---\n",
    "\n",
    "###  Final Dataset Summary\n",
    "\n",
    "- **Real labeled images**: 199\n",
    "- **Synthetic labeled images**: 300\n",
    "- **Total**: 499 images for training, validation, and testing\n",
    "---"
   ]
  },
  {
   "cell_type": "markdown",
   "id": "a19559fc",
   "metadata": {},
   "source": [
    "### 1.2. Train and Evaluate an Object Detection Model\n",
    "\n",
    "Choose an object detection approach of your choice (the techniques covered in the lecture provide a solid foundation). Train your model and evaluate it using a self-created test set consisting of four representative images.\n",
    "\n",
    "Use a standard evaluation metric to assess performance.\n",
    "\n",
    "Note: While the test set consists of only a few images and is intended primarily for symbolicevaluation, make sure your training process is based on a meaningful dataset split as discussed in class. The main assessment of your model’s performance will take place during the live demonstration."
   ]
  },
  {
   "cell_type": "markdown",
   "id": "5768cc86",
   "metadata": {},
   "source": [
    "### EfficientDet - Model Training"
   ]
  },
  {
   "cell_type": "code",
   "execution_count": 1,
   "id": "568807b7",
   "metadata": {},
   "outputs": [
    {
     "name": "stdout",
     "output_type": "stream",
     "text": [
      "Device name: NVIDIA GeForce RTX 4070 Laptop GPU\n",
      "loading annotations into memory...\n",
      "Done (t=0.00s)\n",
      "creating index...\n",
      "index created!\n",
      "loading annotations into memory...\n",
      "Done (t=0.00s)\n",
      "creating index...\n",
      "index created!\n",
      "Loaded pretrained weights for efficientnet-b0\n"
     ]
    },
    {
     "data": {
      "application/vnd.jupyter.widget-view+json": {
       "model_id": "de22e66bbe854b529ffa5b3d8c072158",
       "version_major": 2,
       "version_minor": 0
      },
      "text/plain": [
       "  0%|          | 0/174 [00:00<?, ?it/s]"
      ]
     },
     "metadata": {},
     "output_type": "display_data"
    },
    {
     "name": "stdout",
     "output_type": "stream",
     "text": [
      "Adjusted LR: 5.00e-04\n",
      "Epoch: 1/100. Classification loss: 0.22592. Regression loss: 0.49892. Total loss: 0.72484\n"
     ]
    },
    {
     "data": {
      "application/vnd.jupyter.widget-view+json": {
       "model_id": "da3c9eb8d7484eac8f5279e565223455",
       "version_major": 2,
       "version_minor": 0
      },
      "text/plain": [
       "  0%|          | 0/174 [00:00<?, ?it/s]"
      ]
     },
     "metadata": {},
     "output_type": "display_data"
    },
    {
     "name": "stdout",
     "output_type": "stream",
     "text": [
      "Adjusted LR: 5.00e-04\n",
      "Epoch: 2/100. Classification loss: 0.09340. Regression loss: 0.31657. Total loss: 0.40997\n"
     ]
    },
    {
     "data": {
      "application/vnd.jupyter.widget-view+json": {
       "model_id": "923eb2fe24d94d34ad18be0651ed0844",
       "version_major": 2,
       "version_minor": 0
      },
      "text/plain": [
       "  0%|          | 0/174 [00:00<?, ?it/s]"
      ]
     },
     "metadata": {},
     "output_type": "display_data"
    },
    {
     "name": "stdout",
     "output_type": "stream",
     "text": [
      "Adjusted LR: 5.00e-04\n",
      "Epoch: 3/100. Classification loss: 0.04873. Regression loss: 0.23634. Total loss: 0.28507\n"
     ]
    },
    {
     "data": {
      "application/vnd.jupyter.widget-view+json": {
       "model_id": "6cb2a3b82c4a4a4f8320c533e960b57c",
       "version_major": 2,
       "version_minor": 0
      },
      "text/plain": [
       "  0%|          | 0/174 [00:00<?, ?it/s]"
      ]
     },
     "metadata": {},
     "output_type": "display_data"
    },
    {
     "name": "stdout",
     "output_type": "stream",
     "text": [
      "Adjusted LR: 5.00e-04\n",
      "Epoch: 4/100. Classification loss: 0.04621. Regression loss: 0.25857. Total loss: 0.30477\n"
     ]
    },
    {
     "data": {
      "application/vnd.jupyter.widget-view+json": {
       "model_id": "758f6bd764a94801865846e6cd1c066e",
       "version_major": 2,
       "version_minor": 0
      },
      "text/plain": [
       "  0%|          | 0/174 [00:00<?, ?it/s]"
      ]
     },
     "metadata": {},
     "output_type": "display_data"
    },
    {
     "name": "stdout",
     "output_type": "stream",
     "text": [
      "Adjusted LR: 5.00e-04\n",
      "Epoch: 5/100. Classification loss: 0.05036. Regression loss: 0.37782. Total loss: 0.42817\n"
     ]
    },
    {
     "data": {
      "application/vnd.jupyter.widget-view+json": {
       "model_id": "aaa60a100d7542c59ecd2c87419f2590",
       "version_major": 2,
       "version_minor": 0
      },
      "text/plain": [
       "  0%|          | 0/174 [00:00<?, ?it/s]"
      ]
     },
     "metadata": {},
     "output_type": "display_data"
    },
    {
     "name": "stdout",
     "output_type": "stream",
     "text": [
      "Adjusted LR: 5.00e-04\n",
      "Epoch: 6/100. Classification loss: 0.03948. Regression loss: 0.20597. Total loss: 0.24545\n"
     ]
    },
    {
     "data": {
      "application/vnd.jupyter.widget-view+json": {
       "model_id": "ec64456dd2414763b27c671125316bb6",
       "version_major": 2,
       "version_minor": 0
      },
      "text/plain": [
       "  0%|          | 0/174 [00:00<?, ?it/s]"
      ]
     },
     "metadata": {},
     "output_type": "display_data"
    },
    {
     "name": "stdout",
     "output_type": "stream",
     "text": [
      "Adjusted LR: 5.00e-04\n",
      "Epoch: 7/100. Classification loss: 0.05127. Regression loss: 0.15357. Total loss: 0.20484\n"
     ]
    },
    {
     "data": {
      "application/vnd.jupyter.widget-view+json": {
       "model_id": "c642fb013d1f47c69b84efdd960373be",
       "version_major": 2,
       "version_minor": 0
      },
      "text/plain": [
       "  0%|          | 0/174 [00:00<?, ?it/s]"
      ]
     },
     "metadata": {},
     "output_type": "display_data"
    },
    {
     "name": "stdout",
     "output_type": "stream",
     "text": [
      "Adjusted LR: 5.00e-04\n",
      "Epoch: 8/100. Classification loss: 0.05981. Regression loss: 0.17056. Total loss: 0.23037\n"
     ]
    },
    {
     "data": {
      "application/vnd.jupyter.widget-view+json": {
       "model_id": "3788d49f0d9448249b649f3e805abb59",
       "version_major": 2,
       "version_minor": 0
      },
      "text/plain": [
       "  0%|          | 0/174 [00:00<?, ?it/s]"
      ]
     },
     "metadata": {},
     "output_type": "display_data"
    },
    {
     "name": "stdout",
     "output_type": "stream",
     "text": [
      "Adjusted LR: 5.00e-04\n",
      "Epoch: 9/100. Classification loss: 0.05304. Regression loss: 0.16584. Total loss: 0.21887\n"
     ]
    },
    {
     "data": {
      "application/vnd.jupyter.widget-view+json": {
       "model_id": "bd9129e2769c4b77b8a103f685f127d3",
       "version_major": 2,
       "version_minor": 0
      },
      "text/plain": [
       "  0%|          | 0/174 [00:00<?, ?it/s]"
      ]
     },
     "metadata": {},
     "output_type": "display_data"
    },
    {
     "name": "stdout",
     "output_type": "stream",
     "text": [
      "Adjusted LR: 5.00e-04\n",
      "Epoch: 10/100. Classification loss: 0.05230. Regression loss: 0.13915. Total loss: 0.19145\n"
     ]
    },
    {
     "data": {
      "application/vnd.jupyter.widget-view+json": {
       "model_id": "f451e69227db498ea2a9bfb07f1f438e",
       "version_major": 2,
       "version_minor": 0
      },
      "text/plain": [
       "  0%|          | 0/174 [00:00<?, ?it/s]"
      ]
     },
     "metadata": {},
     "output_type": "display_data"
    },
    {
     "name": "stdout",
     "output_type": "stream",
     "text": [
      "Adjusted LR: 5.00e-04\n",
      "Epoch: 11/100. Classification loss: 0.06288. Regression loss: 0.17599. Total loss: 0.23887\n"
     ]
    },
    {
     "data": {
      "application/vnd.jupyter.widget-view+json": {
       "model_id": "81c050b60adc43d9a8b99957ba91acce",
       "version_major": 2,
       "version_minor": 0
      },
      "text/plain": [
       "  0%|          | 0/174 [00:00<?, ?it/s]"
      ]
     },
     "metadata": {},
     "output_type": "display_data"
    },
    {
     "name": "stdout",
     "output_type": "stream",
     "text": [
      "Adjusted LR: 5.00e-04\n",
      "Epoch: 12/100. Classification loss: 0.02444. Regression loss: 0.13106. Total loss: 0.15550\n"
     ]
    },
    {
     "data": {
      "application/vnd.jupyter.widget-view+json": {
       "model_id": "34315e7abf6149d889a06dc9c0b28dc5",
       "version_major": 2,
       "version_minor": 0
      },
      "text/plain": [
       "  0%|          | 0/174 [00:00<?, ?it/s]"
      ]
     },
     "metadata": {},
     "output_type": "display_data"
    },
    {
     "name": "stdout",
     "output_type": "stream",
     "text": [
      "Adjusted LR: 5.00e-04\n",
      "Epoch: 13/100. Classification loss: 0.02147. Regression loss: 0.17794. Total loss: 0.19941\n"
     ]
    },
    {
     "data": {
      "application/vnd.jupyter.widget-view+json": {
       "model_id": "76520434899140e9aa3994cb104b04cf",
       "version_major": 2,
       "version_minor": 0
      },
      "text/plain": [
       "  0%|          | 0/174 [00:00<?, ?it/s]"
      ]
     },
     "metadata": {},
     "output_type": "display_data"
    },
    {
     "name": "stdout",
     "output_type": "stream",
     "text": [
      "Adjusted LR: 5.00e-04\n",
      "Epoch: 14/100. Classification loss: 0.02278. Regression loss: 0.15299. Total loss: 0.17577\n"
     ]
    },
    {
     "data": {
      "application/vnd.jupyter.widget-view+json": {
       "model_id": "cc9bed8a31174f6cb1ddfb6ef8a67b26",
       "version_major": 2,
       "version_minor": 0
      },
      "text/plain": [
       "  0%|          | 0/174 [00:00<?, ?it/s]"
      ]
     },
     "metadata": {},
     "output_type": "display_data"
    },
    {
     "name": "stdout",
     "output_type": "stream",
     "text": [
      "Adjusted LR: 5.00e-04\n",
      "Epoch: 15/100. Classification loss: 0.02935. Regression loss: 0.14931. Total loss: 0.17866\n"
     ]
    },
    {
     "data": {
      "application/vnd.jupyter.widget-view+json": {
       "model_id": "f18167e2ea674606a056fb23ae9766ce",
       "version_major": 2,
       "version_minor": 0
      },
      "text/plain": [
       "  0%|          | 0/174 [00:00<?, ?it/s]"
      ]
     },
     "metadata": {},
     "output_type": "display_data"
    },
    {
     "name": "stdout",
     "output_type": "stream",
     "text": [
      "Adjusted LR: 5.00e-04\n",
      "Epoch: 16/100. Classification loss: 0.02804. Regression loss: 0.12317. Total loss: 0.15121\n"
     ]
    },
    {
     "data": {
      "application/vnd.jupyter.widget-view+json": {
       "model_id": "38a6a31ea863461188c22965ca9c4577",
       "version_major": 2,
       "version_minor": 0
      },
      "text/plain": [
       "  0%|          | 0/174 [00:00<?, ?it/s]"
      ]
     },
     "metadata": {},
     "output_type": "display_data"
    },
    {
     "name": "stdout",
     "output_type": "stream",
     "text": [
      "Adjusted LR: 5.00e-04\n",
      "Epoch: 17/100. Classification loss: 0.03262. Regression loss: 0.09985. Total loss: 0.13247\n"
     ]
    },
    {
     "data": {
      "application/vnd.jupyter.widget-view+json": {
       "model_id": "4079f39b9dfc4a84b30df3d8f01c15df",
       "version_major": 2,
       "version_minor": 0
      },
      "text/plain": [
       "  0%|          | 0/174 [00:00<?, ?it/s]"
      ]
     },
     "metadata": {},
     "output_type": "display_data"
    },
    {
     "name": "stdout",
     "output_type": "stream",
     "text": [
      "Adjusted LR: 5.00e-04\n",
      "Epoch: 18/100. Classification loss: 0.01800. Regression loss: 0.13246. Total loss: 0.15046\n"
     ]
    },
    {
     "data": {
      "application/vnd.jupyter.widget-view+json": {
       "model_id": "2fd8441f96e94ad693a7e9e2e203b0a0",
       "version_major": 2,
       "version_minor": 0
      },
      "text/plain": [
       "  0%|          | 0/174 [00:00<?, ?it/s]"
      ]
     },
     "metadata": {},
     "output_type": "display_data"
    },
    {
     "name": "stdout",
     "output_type": "stream",
     "text": [
      "Adjusted LR: 5.00e-04\n",
      "Epoch: 19/100. Classification loss: 0.04189. Regression loss: 0.09330. Total loss: 0.13519\n"
     ]
    },
    {
     "data": {
      "application/vnd.jupyter.widget-view+json": {
       "model_id": "ea05a86e126d4b80a2a05bb707919470",
       "version_major": 2,
       "version_minor": 0
      },
      "text/plain": [
       "  0%|          | 0/174 [00:00<?, ?it/s]"
      ]
     },
     "metadata": {},
     "output_type": "display_data"
    },
    {
     "name": "stdout",
     "output_type": "stream",
     "text": [
      "Adjusted LR: 5.00e-04\n",
      "Epoch: 20/100. Classification loss: 0.02585. Regression loss: 0.10145. Total loss: 0.12731\n"
     ]
    },
    {
     "data": {
      "application/vnd.jupyter.widget-view+json": {
       "model_id": "7f9b20c6a4d34cb3a5356defe8e2a42d",
       "version_major": 2,
       "version_minor": 0
      },
      "text/plain": [
       "  0%|          | 0/174 [00:00<?, ?it/s]"
      ]
     },
     "metadata": {},
     "output_type": "display_data"
    },
    {
     "name": "stdout",
     "output_type": "stream",
     "text": [
      "Adjusted LR: 5.00e-04\n",
      "Epoch: 21/100. Classification loss: 0.04035. Regression loss: 0.11096. Total loss: 0.15131\n"
     ]
    },
    {
     "data": {
      "application/vnd.jupyter.widget-view+json": {
       "model_id": "303367e939594e92b28a64a722519b40",
       "version_major": 2,
       "version_minor": 0
      },
      "text/plain": [
       "  0%|          | 0/174 [00:00<?, ?it/s]"
      ]
     },
     "metadata": {},
     "output_type": "display_data"
    },
    {
     "name": "stdout",
     "output_type": "stream",
     "text": [
      "Adjusted LR: 5.00e-04\n",
      "Epoch: 22/100. Classification loss: 0.01812. Regression loss: 0.09395. Total loss: 0.11208\n"
     ]
    },
    {
     "data": {
      "application/vnd.jupyter.widget-view+json": {
       "model_id": "1a8be846d1134374b674bb209e61ec82",
       "version_major": 2,
       "version_minor": 0
      },
      "text/plain": [
       "  0%|          | 0/174 [00:00<?, ?it/s]"
      ]
     },
     "metadata": {},
     "output_type": "display_data"
    },
    {
     "name": "stdout",
     "output_type": "stream",
     "text": [
      "Adjusted LR: 5.00e-04\n",
      "Epoch: 23/100. Classification loss: 0.01413. Regression loss: 0.10666. Total loss: 0.12078\n"
     ]
    },
    {
     "data": {
      "application/vnd.jupyter.widget-view+json": {
       "model_id": "05cdcd223b1f4e5fb22c17bfe500ab23",
       "version_major": 2,
       "version_minor": 0
      },
      "text/plain": [
       "  0%|          | 0/174 [00:00<?, ?it/s]"
      ]
     },
     "metadata": {},
     "output_type": "display_data"
    },
    {
     "name": "stdout",
     "output_type": "stream",
     "text": [
      "Adjusted LR: 5.00e-04\n",
      "Epoch: 24/100. Classification loss: 0.01247. Regression loss: 0.09167. Total loss: 0.10413\n"
     ]
    },
    {
     "data": {
      "application/vnd.jupyter.widget-view+json": {
       "model_id": "2ca9a1162a5f42d88d15dd6b2ba98a26",
       "version_major": 2,
       "version_minor": 0
      },
      "text/plain": [
       "  0%|          | 0/174 [00:00<?, ?it/s]"
      ]
     },
     "metadata": {},
     "output_type": "display_data"
    },
    {
     "name": "stdout",
     "output_type": "stream",
     "text": [
      "Adjusted LR: 5.00e-04\n",
      "Epoch: 25/100. Classification loss: 0.01061. Regression loss: 0.08650. Total loss: 0.09711\n"
     ]
    },
    {
     "data": {
      "application/vnd.jupyter.widget-view+json": {
       "model_id": "84f371feb2884a93a9b038daffbb3135",
       "version_major": 2,
       "version_minor": 0
      },
      "text/plain": [
       "  0%|          | 0/174 [00:00<?, ?it/s]"
      ]
     },
     "metadata": {},
     "output_type": "display_data"
    },
    {
     "name": "stdout",
     "output_type": "stream",
     "text": [
      "Adjusted LR: 5.00e-04\n",
      "Epoch: 26/100. Classification loss: 0.01609. Regression loss: 0.09255. Total loss: 0.10864\n"
     ]
    },
    {
     "data": {
      "application/vnd.jupyter.widget-view+json": {
       "model_id": "fd6bd665f97f437e8eeb7fe6349e6136",
       "version_major": 2,
       "version_minor": 0
      },
      "text/plain": [
       "  0%|          | 0/174 [00:00<?, ?it/s]"
      ]
     },
     "metadata": {},
     "output_type": "display_data"
    },
    {
     "name": "stdout",
     "output_type": "stream",
     "text": [
      "Adjusted LR: 5.00e-04\n",
      "Epoch: 27/100. Classification loss: 0.01128. Regression loss: 0.09398. Total loss: 0.10526\n"
     ]
    },
    {
     "data": {
      "application/vnd.jupyter.widget-view+json": {
       "model_id": "9cdae84124b847b1b4b5dfe5763b55ee",
       "version_major": 2,
       "version_minor": 0
      },
      "text/plain": [
       "  0%|          | 0/174 [00:00<?, ?it/s]"
      ]
     },
     "metadata": {},
     "output_type": "display_data"
    },
    {
     "name": "stdout",
     "output_type": "stream",
     "text": [
      "Adjusted LR: 5.00e-04\n",
      "Epoch: 28/100. Classification loss: 0.01635. Regression loss: 0.08430. Total loss: 0.10065\n"
     ]
    },
    {
     "data": {
      "application/vnd.jupyter.widget-view+json": {
       "model_id": "8ffe513262e84cc0b3702d4d09747692",
       "version_major": 2,
       "version_minor": 0
      },
      "text/plain": [
       "  0%|          | 0/174 [00:00<?, ?it/s]"
      ]
     },
     "metadata": {},
     "output_type": "display_data"
    },
    {
     "name": "stdout",
     "output_type": "stream",
     "text": [
      "Adjusted LR: 5.00e-04\n",
      "Epoch: 29/100. Classification loss: 0.01081. Regression loss: 0.09871. Total loss: 0.10951\n"
     ]
    },
    {
     "data": {
      "application/vnd.jupyter.widget-view+json": {
       "model_id": "2bbcf9521f614ac19d5835200123a31e",
       "version_major": 2,
       "version_minor": 0
      },
      "text/plain": [
       "  0%|          | 0/174 [00:00<?, ?it/s]"
      ]
     },
     "metadata": {},
     "output_type": "display_data"
    },
    {
     "name": "stdout",
     "output_type": "stream",
     "text": [
      "Adjusted LR: 5.00e-04\n",
      "Epoch: 30/100. Classification loss: 0.02020. Regression loss: 0.08100. Total loss: 0.10120\n"
     ]
    },
    {
     "data": {
      "application/vnd.jupyter.widget-view+json": {
       "model_id": "b3d7fc1c5f30413c819a1ca44bb0d5ea",
       "version_major": 2,
       "version_minor": 0
      },
      "text/plain": [
       "  0%|          | 0/174 [00:00<?, ?it/s]"
      ]
     },
     "metadata": {},
     "output_type": "display_data"
    },
    {
     "name": "stdout",
     "output_type": "stream",
     "text": [
      "Adjusted LR: 5.00e-04\n",
      "Epoch: 31/100. Classification loss: 0.01536. Regression loss: 0.07432. Total loss: 0.08969\n"
     ]
    },
    {
     "data": {
      "application/vnd.jupyter.widget-view+json": {
       "model_id": "6dc4ca43cdc04762ac8531aba2576430",
       "version_major": 2,
       "version_minor": 0
      },
      "text/plain": [
       "  0%|          | 0/174 [00:00<?, ?it/s]"
      ]
     },
     "metadata": {},
     "output_type": "display_data"
    },
    {
     "name": "stdout",
     "output_type": "stream",
     "text": [
      "Adjusted LR: 5.00e-04\n",
      "Epoch: 32/100. Classification loss: 0.04694. Regression loss: 0.08216. Total loss: 0.12910\n"
     ]
    },
    {
     "data": {
      "application/vnd.jupyter.widget-view+json": {
       "model_id": "b0161c175dec450fbd975da30a095f22",
       "version_major": 2,
       "version_minor": 0
      },
      "text/plain": [
       "  0%|          | 0/174 [00:00<?, ?it/s]"
      ]
     },
     "metadata": {},
     "output_type": "display_data"
    },
    {
     "name": "stdout",
     "output_type": "stream",
     "text": [
      "Adjusted LR: 5.00e-04\n",
      "Epoch: 33/100. Classification loss: 0.02038. Regression loss: 0.07622. Total loss: 0.09660\n"
     ]
    },
    {
     "data": {
      "application/vnd.jupyter.widget-view+json": {
       "model_id": "cfe9b08ae1ec47cdb1e784a5398b843e",
       "version_major": 2,
       "version_minor": 0
      },
      "text/plain": [
       "  0%|          | 0/174 [00:00<?, ?it/s]"
      ]
     },
     "metadata": {},
     "output_type": "display_data"
    },
    {
     "name": "stdout",
     "output_type": "stream",
     "text": [
      "Adjusted LR: 5.00e-04\n",
      "Epoch: 34/100. Classification loss: 0.01349. Regression loss: 0.09706. Total loss: 0.11056\n"
     ]
    },
    {
     "data": {
      "application/vnd.jupyter.widget-view+json": {
       "model_id": "f8a65cc3419b42e29d4283e06f410847",
       "version_major": 2,
       "version_minor": 0
      },
      "text/plain": [
       "  0%|          | 0/174 [00:00<?, ?it/s]"
      ]
     },
     "metadata": {},
     "output_type": "display_data"
    },
    {
     "name": "stdout",
     "output_type": "stream",
     "text": [
      "Adjusted LR: 5.00e-04\n",
      "Epoch: 35/100. Classification loss: 0.01591. Regression loss: 0.08356. Total loss: 0.09948\n"
     ]
    },
    {
     "data": {
      "application/vnd.jupyter.widget-view+json": {
       "model_id": "cd9cbeb2fe764242928d6ff64c3963db",
       "version_major": 2,
       "version_minor": 0
      },
      "text/plain": [
       "  0%|          | 0/174 [00:00<?, ?it/s]"
      ]
     },
     "metadata": {},
     "output_type": "display_data"
    },
    {
     "name": "stdout",
     "output_type": "stream",
     "text": [
      "Adjusted LR: 5.00e-04\n",
      "Epoch: 36/100. Classification loss: 0.02114. Regression loss: 0.10081. Total loss: 0.12195\n"
     ]
    },
    {
     "data": {
      "application/vnd.jupyter.widget-view+json": {
       "model_id": "93917416283e4b46a8da078588d6abaf",
       "version_major": 2,
       "version_minor": 0
      },
      "text/plain": [
       "  0%|          | 0/174 [00:00<?, ?it/s]"
      ]
     },
     "metadata": {},
     "output_type": "display_data"
    },
    {
     "name": "stdout",
     "output_type": "stream",
     "text": [
      "Adjusted LR: 5.00e-04\n",
      "Epoch: 37/100. Classification loss: 0.01548. Regression loss: 0.08160. Total loss: 0.09708\n"
     ]
    },
    {
     "data": {
      "application/vnd.jupyter.widget-view+json": {
       "model_id": "8842a5abcbad4210ad091c8bdf24de16",
       "version_major": 2,
       "version_minor": 0
      },
      "text/plain": [
       "  0%|          | 0/174 [00:00<?, ?it/s]"
      ]
     },
     "metadata": {},
     "output_type": "display_data"
    },
    {
     "name": "stdout",
     "output_type": "stream",
     "text": [
      "Adjusted LR: 5.00e-04\n",
      "Epoch: 38/100. Classification loss: 0.01811. Regression loss: 0.07644. Total loss: 0.09455\n"
     ]
    },
    {
     "data": {
      "application/vnd.jupyter.widget-view+json": {
       "model_id": "bf80f624ce344fa89e90a24ee9835411",
       "version_major": 2,
       "version_minor": 0
      },
      "text/plain": [
       "  0%|          | 0/174 [00:00<?, ?it/s]"
      ]
     },
     "metadata": {},
     "output_type": "display_data"
    },
    {
     "name": "stdout",
     "output_type": "stream",
     "text": [
      "Adjusted LR: 5.00e-04\n",
      "Epoch: 39/100. Classification loss: 0.03163. Regression loss: 0.07982. Total loss: 0.11146\n"
     ]
    },
    {
     "data": {
      "application/vnd.jupyter.widget-view+json": {
       "model_id": "5ca1475bc2b049dba98cd211f45a2487",
       "version_major": 2,
       "version_minor": 0
      },
      "text/plain": [
       "  0%|          | 0/174 [00:00<?, ?it/s]"
      ]
     },
     "metadata": {},
     "output_type": "display_data"
    },
    {
     "name": "stdout",
     "output_type": "stream",
     "text": [
      "Adjusted LR: 5.00e-04\n",
      "Epoch: 40/100. Classification loss: 0.01174. Regression loss: 0.07994. Total loss: 0.09168\n"
     ]
    },
    {
     "data": {
      "application/vnd.jupyter.widget-view+json": {
       "model_id": "9e363267de4f495f9437825425bfb008",
       "version_major": 2,
       "version_minor": 0
      },
      "text/plain": [
       "  0%|          | 0/174 [00:00<?, ?it/s]"
      ]
     },
     "metadata": {},
     "output_type": "display_data"
    },
    {
     "name": "stdout",
     "output_type": "stream",
     "text": [
      "Adjusted LR: 5.00e-04\n",
      "Epoch: 41/100. Classification loss: 0.01438. Regression loss: 0.06779. Total loss: 0.08217\n"
     ]
    },
    {
     "data": {
      "application/vnd.jupyter.widget-view+json": {
       "model_id": "1f71396d55714eec8805faf4fc789759",
       "version_major": 2,
       "version_minor": 0
      },
      "text/plain": [
       "  0%|          | 0/174 [00:00<?, ?it/s]"
      ]
     },
     "metadata": {},
     "output_type": "display_data"
    },
    {
     "name": "stdout",
     "output_type": "stream",
     "text": [
      "Adjusted LR: 5.00e-04\n",
      "Epoch: 42/100. Classification loss: 0.01597. Regression loss: 0.07888. Total loss: 0.09485\n"
     ]
    },
    {
     "data": {
      "application/vnd.jupyter.widget-view+json": {
       "model_id": "0681aeddc56a45a0802f099be6edc487",
       "version_major": 2,
       "version_minor": 0
      },
      "text/plain": [
       "  0%|          | 0/174 [00:00<?, ?it/s]"
      ]
     },
     "metadata": {},
     "output_type": "display_data"
    },
    {
     "name": "stdout",
     "output_type": "stream",
     "text": [
      "Adjusted LR: 5.00e-04\n",
      "Epoch: 43/100. Classification loss: 0.01336. Regression loss: 0.10194. Total loss: 0.11531\n"
     ]
    },
    {
     "data": {
      "application/vnd.jupyter.widget-view+json": {
       "model_id": "dc82670664ee493cadfd2cc8bd6c7800",
       "version_major": 2,
       "version_minor": 0
      },
      "text/plain": [
       "  0%|          | 0/174 [00:00<?, ?it/s]"
      ]
     },
     "metadata": {},
     "output_type": "display_data"
    },
    {
     "name": "stdout",
     "output_type": "stream",
     "text": [
      "Adjusted LR: 5.00e-04\n",
      "Epoch: 44/100. Classification loss: 0.01305. Regression loss: 0.07175. Total loss: 0.08480\n"
     ]
    },
    {
     "data": {
      "application/vnd.jupyter.widget-view+json": {
       "model_id": "1009ceb88e154f11846f213332210249",
       "version_major": 2,
       "version_minor": 0
      },
      "text/plain": [
       "  0%|          | 0/174 [00:00<?, ?it/s]"
      ]
     },
     "metadata": {},
     "output_type": "display_data"
    },
    {
     "name": "stdout",
     "output_type": "stream",
     "text": [
      "Adjusted LR: 5.00e-04\n",
      "Epoch: 45/100. Classification loss: 0.04558. Regression loss: 0.06927. Total loss: 0.11485\n"
     ]
    },
    {
     "data": {
      "application/vnd.jupyter.widget-view+json": {
       "model_id": "3015bb4955c7468991cd63ec8ea7df27",
       "version_major": 2,
       "version_minor": 0
      },
      "text/plain": [
       "  0%|          | 0/174 [00:00<?, ?it/s]"
      ]
     },
     "metadata": {},
     "output_type": "display_data"
    },
    {
     "name": "stdout",
     "output_type": "stream",
     "text": [
      "Adjusted LR: 5.00e-04\n",
      "Epoch: 46/100. Classification loss: 0.05169. Regression loss: 0.10235. Total loss: 0.15405\n"
     ]
    },
    {
     "data": {
      "application/vnd.jupyter.widget-view+json": {
       "model_id": "aa0af3d5b7ca496cb5667053345ad036",
       "version_major": 2,
       "version_minor": 0
      },
      "text/plain": [
       "  0%|          | 0/174 [00:00<?, ?it/s]"
      ]
     },
     "metadata": {},
     "output_type": "display_data"
    },
    {
     "name": "stdout",
     "output_type": "stream",
     "text": [
      "Adjusted LR: 5.00e-04\n",
      "Epoch: 47/100. Classification loss: 0.01217. Regression loss: 0.10574. Total loss: 0.11791\n"
     ]
    },
    {
     "data": {
      "application/vnd.jupyter.widget-view+json": {
       "model_id": "de7bf90a82d7402595c1f4e2a4b1af19",
       "version_major": 2,
       "version_minor": 0
      },
      "text/plain": [
       "  0%|          | 0/174 [00:00<?, ?it/s]"
      ]
     },
     "metadata": {},
     "output_type": "display_data"
    },
    {
     "name": "stdout",
     "output_type": "stream",
     "text": [
      "Adjusted LR: 5.00e-04\n",
      "Epoch: 48/100. Classification loss: 0.00867. Regression loss: 0.06276. Total loss: 0.07142\n"
     ]
    },
    {
     "data": {
      "application/vnd.jupyter.widget-view+json": {
       "model_id": "072b44c0792e4fc7ae662d8e2c5ab453",
       "version_major": 2,
       "version_minor": 0
      },
      "text/plain": [
       "  0%|          | 0/174 [00:00<?, ?it/s]"
      ]
     },
     "metadata": {},
     "output_type": "display_data"
    },
    {
     "name": "stdout",
     "output_type": "stream",
     "text": [
      "Adjusted LR: 5.00e-04\n",
      "Epoch: 49/100. Classification loss: 0.00785. Regression loss: 0.06849. Total loss: 0.07634\n"
     ]
    },
    {
     "data": {
      "application/vnd.jupyter.widget-view+json": {
       "model_id": "ff265b4a048846db83b51f76b55976b1",
       "version_major": 2,
       "version_minor": 0
      },
      "text/plain": [
       "  0%|          | 0/174 [00:00<?, ?it/s]"
      ]
     },
     "metadata": {},
     "output_type": "display_data"
    },
    {
     "name": "stdout",
     "output_type": "stream",
     "text": [
      "Adjusted LR: 5.00e-04\n",
      "Epoch: 50/100. Classification loss: 0.01225. Regression loss: 0.06148. Total loss: 0.07374\n"
     ]
    },
    {
     "data": {
      "application/vnd.jupyter.widget-view+json": {
       "model_id": "5a1a405110094de58c7b8d320e7e7e79",
       "version_major": 2,
       "version_minor": 0
      },
      "text/plain": [
       "  0%|          | 0/174 [00:00<?, ?it/s]"
      ]
     },
     "metadata": {},
     "output_type": "display_data"
    },
    {
     "name": "stdout",
     "output_type": "stream",
     "text": [
      "Adjusted LR: 5.00e-04\n",
      "Epoch: 51/100. Classification loss: 0.01035. Regression loss: 0.06862. Total loss: 0.07898\n"
     ]
    },
    {
     "data": {
      "application/vnd.jupyter.widget-view+json": {
       "model_id": "ddf33f1f0c7e492aaa724b9c782c2119",
       "version_major": 2,
       "version_minor": 0
      },
      "text/plain": [
       "  0%|          | 0/174 [00:00<?, ?it/s]"
      ]
     },
     "metadata": {},
     "output_type": "display_data"
    },
    {
     "name": "stdout",
     "output_type": "stream",
     "text": [
      "Adjusted LR: 5.00e-04\n",
      "Epoch: 52/100. Classification loss: 0.02067. Regression loss: 0.06959. Total loss: 0.09026\n"
     ]
    },
    {
     "data": {
      "application/vnd.jupyter.widget-view+json": {
       "model_id": "05f0ae2dc316482682baee77cd442703",
       "version_major": 2,
       "version_minor": 0
      },
      "text/plain": [
       "  0%|          | 0/174 [00:00<?, ?it/s]"
      ]
     },
     "metadata": {},
     "output_type": "display_data"
    },
    {
     "name": "stdout",
     "output_type": "stream",
     "text": [
      "Adjusted LR: 5.00e-04\n",
      "Epoch: 53/100. Classification loss: 0.01150. Regression loss: 0.06081. Total loss: 0.07231\n"
     ]
    },
    {
     "data": {
      "application/vnd.jupyter.widget-view+json": {
       "model_id": "a7df706281c74852827087859f6151d1",
       "version_major": 2,
       "version_minor": 0
      },
      "text/plain": [
       "  0%|          | 0/174 [00:00<?, ?it/s]"
      ]
     },
     "metadata": {},
     "output_type": "display_data"
    },
    {
     "name": "stdout",
     "output_type": "stream",
     "text": [
      "Adjusted LR: 5.00e-04\n",
      "Epoch: 54/100. Classification loss: 0.01641. Regression loss: 0.06388. Total loss: 0.08029\n"
     ]
    },
    {
     "data": {
      "application/vnd.jupyter.widget-view+json": {
       "model_id": "451a7fbae56a40468c0158ac5afbaeaa",
       "version_major": 2,
       "version_minor": 0
      },
      "text/plain": [
       "  0%|          | 0/174 [00:00<?, ?it/s]"
      ]
     },
     "metadata": {},
     "output_type": "display_data"
    },
    {
     "name": "stdout",
     "output_type": "stream",
     "text": [
      "Adjusted LR: 5.00e-04\n",
      "Epoch: 55/100. Classification loss: 0.01433. Regression loss: 0.07193. Total loss: 0.08626\n"
     ]
    },
    {
     "data": {
      "application/vnd.jupyter.widget-view+json": {
       "model_id": "6394136cb83f4696a93337ee973c1982",
       "version_major": 2,
       "version_minor": 0
      },
      "text/plain": [
       "  0%|          | 0/174 [00:00<?, ?it/s]"
      ]
     },
     "metadata": {},
     "output_type": "display_data"
    },
    {
     "name": "stdout",
     "output_type": "stream",
     "text": [
      "Adjusted LR: 5.00e-04\n",
      "Epoch: 56/100. Classification loss: 0.02036. Regression loss: 0.06884. Total loss: 0.08920\n"
     ]
    },
    {
     "data": {
      "application/vnd.jupyter.widget-view+json": {
       "model_id": "e4687dad138a4a8ba706e28dfbc3bada",
       "version_major": 2,
       "version_minor": 0
      },
      "text/plain": [
       "  0%|          | 0/174 [00:00<?, ?it/s]"
      ]
     },
     "metadata": {},
     "output_type": "display_data"
    },
    {
     "name": "stdout",
     "output_type": "stream",
     "text": [
      "Adjusted LR: 5.00e-04\n",
      "Epoch: 57/100. Classification loss: 0.02464. Regression loss: 0.06723. Total loss: 0.09187\n"
     ]
    },
    {
     "data": {
      "application/vnd.jupyter.widget-view+json": {
       "model_id": "2c0d1a08e8c744588243bcad8783b9d4",
       "version_major": 2,
       "version_minor": 0
      },
      "text/plain": [
       "  0%|          | 0/174 [00:00<?, ?it/s]"
      ]
     },
     "metadata": {},
     "output_type": "display_data"
    },
    {
     "name": "stdout",
     "output_type": "stream",
     "text": [
      "Adjusted LR: 5.00e-04\n",
      "Epoch: 58/100. Classification loss: 0.04177. Regression loss: 0.07850. Total loss: 0.12028\n"
     ]
    },
    {
     "data": {
      "application/vnd.jupyter.widget-view+json": {
       "model_id": "acd3008711f4438da4b016fd720bb636",
       "version_major": 2,
       "version_minor": 0
      },
      "text/plain": [
       "  0%|          | 0/174 [00:00<?, ?it/s]"
      ]
     },
     "metadata": {},
     "output_type": "display_data"
    },
    {
     "name": "stdout",
     "output_type": "stream",
     "text": [
      "Adjusted LR: 5.00e-04\n",
      "Epoch: 59/100. Classification loss: 0.08428. Regression loss: 0.06511. Total loss: 0.14939\n"
     ]
    },
    {
     "data": {
      "application/vnd.jupyter.widget-view+json": {
       "model_id": "b57777624580441487383f41fe2df618",
       "version_major": 2,
       "version_minor": 0
      },
      "text/plain": [
       "  0%|          | 0/174 [00:00<?, ?it/s]"
      ]
     },
     "metadata": {},
     "output_type": "display_data"
    },
    {
     "name": "stdout",
     "output_type": "stream",
     "text": [
      "Adjusted LR: 5.00e-04\n",
      "Epoch: 60/100. Classification loss: 0.01555. Regression loss: 0.05816. Total loss: 0.07372\n"
     ]
    },
    {
     "data": {
      "application/vnd.jupyter.widget-view+json": {
       "model_id": "eb4d448cac3048fbaee73ee7a29e154f",
       "version_major": 2,
       "version_minor": 0
      },
      "text/plain": [
       "  0%|          | 0/174 [00:00<?, ?it/s]"
      ]
     },
     "metadata": {},
     "output_type": "display_data"
    },
    {
     "name": "stdout",
     "output_type": "stream",
     "text": [
      "Adjusted LR: 5.00e-04\n",
      "Epoch: 61/100. Classification loss: 0.02267. Regression loss: 0.06069. Total loss: 0.08336\n"
     ]
    },
    {
     "data": {
      "application/vnd.jupyter.widget-view+json": {
       "model_id": "040954b6ac2446f2a01e94579b15c573",
       "version_major": 2,
       "version_minor": 0
      },
      "text/plain": [
       "  0%|          | 0/174 [00:00<?, ?it/s]"
      ]
     },
     "metadata": {},
     "output_type": "display_data"
    },
    {
     "name": "stdout",
     "output_type": "stream",
     "text": [
      "Adjusted LR: 5.00e-04\n",
      "Epoch: 62/100. Classification loss: 0.01720. Regression loss: 0.06066. Total loss: 0.07787\n"
     ]
    },
    {
     "data": {
      "application/vnd.jupyter.widget-view+json": {
       "model_id": "2daa8581e1144746ac39a1e2d20768bf",
       "version_major": 2,
       "version_minor": 0
      },
      "text/plain": [
       "  0%|          | 0/174 [00:00<?, ?it/s]"
      ]
     },
     "metadata": {},
     "output_type": "display_data"
    },
    {
     "name": "stdout",
     "output_type": "stream",
     "text": [
      "Adjusted LR: 5.00e-04\n",
      "Epoch: 63/100. Classification loss: 0.01728. Regression loss: 0.06422. Total loss: 0.08150\n"
     ]
    },
    {
     "data": {
      "application/vnd.jupyter.widget-view+json": {
       "model_id": "12daaee6f4414e54b2a80ff0aa64bb22",
       "version_major": 2,
       "version_minor": 0
      },
      "text/plain": [
       "  0%|          | 0/174 [00:00<?, ?it/s]"
      ]
     },
     "metadata": {},
     "output_type": "display_data"
    },
    {
     "name": "stdout",
     "output_type": "stream",
     "text": [
      "Adjusted LR: 5.00e-04\n",
      "Epoch: 64/100. Classification loss: 0.02416. Regression loss: 0.07472. Total loss: 0.09888\n"
     ]
    },
    {
     "data": {
      "application/vnd.jupyter.widget-view+json": {
       "model_id": "58a67fad2b754871a8d768a2a1eeabf5",
       "version_major": 2,
       "version_minor": 0
      },
      "text/plain": [
       "  0%|          | 0/174 [00:00<?, ?it/s]"
      ]
     },
     "metadata": {},
     "output_type": "display_data"
    },
    {
     "name": "stdout",
     "output_type": "stream",
     "text": [
      "Adjusted LR: 5.00e-04\n",
      "Epoch: 65/100. Classification loss: 0.01084. Regression loss: 0.06492. Total loss: 0.07577\n"
     ]
    },
    {
     "data": {
      "application/vnd.jupyter.widget-view+json": {
       "model_id": "79c8c770821c4d8299ee88b3e841941d",
       "version_major": 2,
       "version_minor": 0
      },
      "text/plain": [
       "  0%|          | 0/174 [00:00<?, ?it/s]"
      ]
     },
     "metadata": {},
     "output_type": "display_data"
    },
    {
     "name": "stdout",
     "output_type": "stream",
     "text": [
      "Adjusted LR: 5.00e-04\n",
      "Epoch: 66/100. Classification loss: 0.00807. Regression loss: 0.05307. Total loss: 0.06114\n"
     ]
    },
    {
     "data": {
      "application/vnd.jupyter.widget-view+json": {
       "model_id": "02491db0cc5945588ddfe35b5c6b03e5",
       "version_major": 2,
       "version_minor": 0
      },
      "text/plain": [
       "  0%|          | 0/174 [00:00<?, ?it/s]"
      ]
     },
     "metadata": {},
     "output_type": "display_data"
    },
    {
     "name": "stdout",
     "output_type": "stream",
     "text": [
      "Adjusted LR: 5.00e-04\n",
      "Epoch: 67/100. Classification loss: 0.00941. Regression loss: 0.06705. Total loss: 0.07646\n"
     ]
    },
    {
     "data": {
      "application/vnd.jupyter.widget-view+json": {
       "model_id": "aae3fd7ffebf4244825fa7cd5ef42fc7",
       "version_major": 2,
       "version_minor": 0
      },
      "text/plain": [
       "  0%|          | 0/174 [00:00<?, ?it/s]"
      ]
     },
     "metadata": {},
     "output_type": "display_data"
    },
    {
     "name": "stdout",
     "output_type": "stream",
     "text": [
      "Adjusted LR: 5.00e-04\n",
      "Epoch: 68/100. Classification loss: 0.01058. Regression loss: 0.06725. Total loss: 0.07783\n"
     ]
    },
    {
     "data": {
      "application/vnd.jupyter.widget-view+json": {
       "model_id": "acdd9c5a7cf14091be3be641a83fdcc1",
       "version_major": 2,
       "version_minor": 0
      },
      "text/plain": [
       "  0%|          | 0/174 [00:00<?, ?it/s]"
      ]
     },
     "metadata": {},
     "output_type": "display_data"
    },
    {
     "name": "stdout",
     "output_type": "stream",
     "text": [
      "Adjusted LR: 5.00e-04\n",
      "Epoch: 69/100. Classification loss: 0.02447. Regression loss: 0.07332. Total loss: 0.09779\n"
     ]
    },
    {
     "data": {
      "application/vnd.jupyter.widget-view+json": {
       "model_id": "f4effa29864e4ced98f294cb7e3fff59",
       "version_major": 2,
       "version_minor": 0
      },
      "text/plain": [
       "  0%|          | 0/174 [00:00<?, ?it/s]"
      ]
     },
     "metadata": {},
     "output_type": "display_data"
    },
    {
     "name": "stdout",
     "output_type": "stream",
     "text": [
      "Adjusted LR: 5.00e-04\n",
      "Epoch: 70/100. Classification loss: 0.01629. Regression loss: 0.05506. Total loss: 0.07135\n"
     ]
    },
    {
     "data": {
      "application/vnd.jupyter.widget-view+json": {
       "model_id": "f7a0716ac7bb4583ab219dae9615c3d2",
       "version_major": 2,
       "version_minor": 0
      },
      "text/plain": [
       "  0%|          | 0/174 [00:00<?, ?it/s]"
      ]
     },
     "metadata": {},
     "output_type": "display_data"
    },
    {
     "name": "stdout",
     "output_type": "stream",
     "text": [
      "Adjusted LR: 5.00e-04\n",
      "Epoch: 71/100. Classification loss: 0.01340. Regression loss: 0.06163. Total loss: 0.07503\n"
     ]
    },
    {
     "data": {
      "application/vnd.jupyter.widget-view+json": {
       "model_id": "8bdd12f9e46c48079b2cd61c27123774",
       "version_major": 2,
       "version_minor": 0
      },
      "text/plain": [
       "  0%|          | 0/174 [00:00<?, ?it/s]"
      ]
     },
     "metadata": {},
     "output_type": "display_data"
    },
    {
     "name": "stdout",
     "output_type": "stream",
     "text": [
      "Adjusted LR: 5.00e-04\n",
      "Epoch: 72/100. Classification loss: 0.01068. Regression loss: 0.06591. Total loss: 0.07659\n"
     ]
    },
    {
     "data": {
      "application/vnd.jupyter.widget-view+json": {
       "model_id": "a4ec96addd6442b0ae27b6818d3e42db",
       "version_major": 2,
       "version_minor": 0
      },
      "text/plain": [
       "  0%|          | 0/174 [00:00<?, ?it/s]"
      ]
     },
     "metadata": {},
     "output_type": "display_data"
    },
    {
     "name": "stdout",
     "output_type": "stream",
     "text": [
      "Adjusted LR: 5.00e-04\n",
      "Epoch: 73/100. Classification loss: 0.01431. Regression loss: 0.06293. Total loss: 0.07724\n"
     ]
    },
    {
     "data": {
      "application/vnd.jupyter.widget-view+json": {
       "model_id": "491a65d469ee4ce5ac85eead3413053d",
       "version_major": 2,
       "version_minor": 0
      },
      "text/plain": [
       "  0%|          | 0/174 [00:00<?, ?it/s]"
      ]
     },
     "metadata": {},
     "output_type": "display_data"
    },
    {
     "name": "stdout",
     "output_type": "stream",
     "text": [
      "Adjusted LR: 5.00e-04\n",
      "Epoch: 74/100. Classification loss: 0.02041. Regression loss: 0.05872. Total loss: 0.07914\n"
     ]
    },
    {
     "data": {
      "application/vnd.jupyter.widget-view+json": {
       "model_id": "7b64c4c81a3041b58464d0133790cc0b",
       "version_major": 2,
       "version_minor": 0
      },
      "text/plain": [
       "  0%|          | 0/174 [00:00<?, ?it/s]"
      ]
     },
     "metadata": {},
     "output_type": "display_data"
    },
    {
     "name": "stdout",
     "output_type": "stream",
     "text": [
      "Adjusted LR: 5.00e-04\n",
      "Epoch: 75/100. Classification loss: 0.01223. Regression loss: 0.05425. Total loss: 0.06649\n"
     ]
    },
    {
     "data": {
      "application/vnd.jupyter.widget-view+json": {
       "model_id": "1c0171f5d4a64866a68c8bb093109d9d",
       "version_major": 2,
       "version_minor": 0
      },
      "text/plain": [
       "  0%|          | 0/174 [00:00<?, ?it/s]"
      ]
     },
     "metadata": {},
     "output_type": "display_data"
    },
    {
     "name": "stdout",
     "output_type": "stream",
     "text": [
      "Adjusted LR: 5.00e-04\n",
      "Epoch: 76/100. Classification loss: 0.01445. Regression loss: 0.06201. Total loss: 0.07647\n"
     ]
    },
    {
     "data": {
      "application/vnd.jupyter.widget-view+json": {
       "model_id": "8d4c715384724747a088c800eb13e4c5",
       "version_major": 2,
       "version_minor": 0
      },
      "text/plain": [
       "  0%|          | 0/174 [00:00<?, ?it/s]"
      ]
     },
     "metadata": {},
     "output_type": "display_data"
    },
    {
     "name": "stdout",
     "output_type": "stream",
     "text": [
      "Adjusted LR: 5.00e-04\n",
      "Epoch: 77/100. Classification loss: 0.02390. Regression loss: 0.05776. Total loss: 0.08166\n"
     ]
    },
    {
     "data": {
      "application/vnd.jupyter.widget-view+json": {
       "model_id": "d3130e77ecf54e28bb80b20dd36e5f55",
       "version_major": 2,
       "version_minor": 0
      },
      "text/plain": [
       "  0%|          | 0/174 [00:00<?, ?it/s]"
      ]
     },
     "metadata": {},
     "output_type": "display_data"
    },
    {
     "name": "stdout",
     "output_type": "stream",
     "text": [
      "Adjusted LR: 5.00e-04\n",
      "Epoch: 78/100. Classification loss: 0.04280. Regression loss: 0.07470. Total loss: 0.11750\n"
     ]
    },
    {
     "data": {
      "application/vnd.jupyter.widget-view+json": {
       "model_id": "b114b944bc714424900fef83e49e9199",
       "version_major": 2,
       "version_minor": 0
      },
      "text/plain": [
       "  0%|          | 0/174 [00:00<?, ?it/s]"
      ]
     },
     "metadata": {},
     "output_type": "display_data"
    },
    {
     "name": "stdout",
     "output_type": "stream",
     "text": [
      "Adjusted LR: 5.00e-04\n",
      "Epoch: 79/100. Classification loss: 0.01414. Regression loss: 0.05788. Total loss: 0.07202\n"
     ]
    },
    {
     "data": {
      "application/vnd.jupyter.widget-view+json": {
       "model_id": "e7c174259102422f959941c6c5bb4008",
       "version_major": 2,
       "version_minor": 0
      },
      "text/plain": [
       "  0%|          | 0/174 [00:00<?, ?it/s]"
      ]
     },
     "metadata": {},
     "output_type": "display_data"
    },
    {
     "name": "stdout",
     "output_type": "stream",
     "text": [
      "Adjusted LR: 5.00e-05\n",
      "Epoch: 80/100. Classification loss: 0.00991. Regression loss: 0.05260. Total loss: 0.06251\n"
     ]
    },
    {
     "data": {
      "application/vnd.jupyter.widget-view+json": {
       "model_id": "a5f8930b303440dcae2f99e293e31303",
       "version_major": 2,
       "version_minor": 0
      },
      "text/plain": [
       "  0%|          | 0/174 [00:00<?, ?it/s]"
      ]
     },
     "metadata": {},
     "output_type": "display_data"
    },
    {
     "name": "stdout",
     "output_type": "stream",
     "text": [
      "Adjusted LR: 5.00e-05\n",
      "Epoch: 81/100. Classification loss: 0.00819. Regression loss: 0.04225. Total loss: 0.05045\n"
     ]
    },
    {
     "data": {
      "application/vnd.jupyter.widget-view+json": {
       "model_id": "7c5694b350004dfb93ff6ec5d4cc17d7",
       "version_major": 2,
       "version_minor": 0
      },
      "text/plain": [
       "  0%|          | 0/174 [00:00<?, ?it/s]"
      ]
     },
     "metadata": {},
     "output_type": "display_data"
    },
    {
     "name": "stdout",
     "output_type": "stream",
     "text": [
      "Adjusted LR: 5.00e-05\n",
      "Epoch: 82/100. Classification loss: 0.00743. Regression loss: 0.04100. Total loss: 0.04843\n"
     ]
    },
    {
     "data": {
      "application/vnd.jupyter.widget-view+json": {
       "model_id": "500093e47ba846359ee94cb2747d553a",
       "version_major": 2,
       "version_minor": 0
      },
      "text/plain": [
       "  0%|          | 0/174 [00:00<?, ?it/s]"
      ]
     },
     "metadata": {},
     "output_type": "display_data"
    },
    {
     "name": "stdout",
     "output_type": "stream",
     "text": [
      "Adjusted LR: 5.00e-05\n",
      "Epoch: 83/100. Classification loss: 0.00888. Regression loss: 0.04103. Total loss: 0.04991\n"
     ]
    },
    {
     "data": {
      "application/vnd.jupyter.widget-view+json": {
       "model_id": "1c0c565bd0b6492a8ec82f0f9be63cbb",
       "version_major": 2,
       "version_minor": 0
      },
      "text/plain": [
       "  0%|          | 0/174 [00:00<?, ?it/s]"
      ]
     },
     "metadata": {},
     "output_type": "display_data"
    },
    {
     "name": "stdout",
     "output_type": "stream",
     "text": [
      "Adjusted LR: 5.00e-05\n",
      "Epoch: 84/100. Classification loss: 0.01065. Regression loss: 0.04103. Total loss: 0.05168\n"
     ]
    },
    {
     "data": {
      "application/vnd.jupyter.widget-view+json": {
       "model_id": "9c95661a20a340c7b6ee8f2ef0ed2f0e",
       "version_major": 2,
       "version_minor": 0
      },
      "text/plain": [
       "  0%|          | 0/174 [00:00<?, ?it/s]"
      ]
     },
     "metadata": {},
     "output_type": "display_data"
    },
    {
     "name": "stdout",
     "output_type": "stream",
     "text": [
      "Adjusted LR: 5.00e-05\n",
      "Epoch: 85/100. Classification loss: 0.00757. Regression loss: 0.04042. Total loss: 0.04799\n"
     ]
    },
    {
     "data": {
      "application/vnd.jupyter.widget-view+json": {
       "model_id": "0e4de47369a844a1b0e922eae24ddaf2",
       "version_major": 2,
       "version_minor": 0
      },
      "text/plain": [
       "  0%|          | 0/174 [00:00<?, ?it/s]"
      ]
     },
     "metadata": {},
     "output_type": "display_data"
    },
    {
     "name": "stdout",
     "output_type": "stream",
     "text": [
      "Adjusted LR: 5.00e-05\n",
      "Epoch: 86/100. Classification loss: 0.01032. Regression loss: 0.04027. Total loss: 0.05059\n"
     ]
    },
    {
     "data": {
      "application/vnd.jupyter.widget-view+json": {
       "model_id": "2d8eff69d43642f692ae4c4446699256",
       "version_major": 2,
       "version_minor": 0
      },
      "text/plain": [
       "  0%|          | 0/174 [00:00<?, ?it/s]"
      ]
     },
     "metadata": {},
     "output_type": "display_data"
    },
    {
     "name": "stdout",
     "output_type": "stream",
     "text": [
      "Adjusted LR: 5.00e-05\n",
      "Epoch: 87/100. Classification loss: 0.00672. Regression loss: 0.03944. Total loss: 0.04616\n"
     ]
    },
    {
     "data": {
      "application/vnd.jupyter.widget-view+json": {
       "model_id": "179de39759634020a4827e98a4ea96a9",
       "version_major": 2,
       "version_minor": 0
      },
      "text/plain": [
       "  0%|          | 0/174 [00:00<?, ?it/s]"
      ]
     },
     "metadata": {},
     "output_type": "display_data"
    },
    {
     "name": "stdout",
     "output_type": "stream",
     "text": [
      "Adjusted LR: 5.00e-05\n",
      "Epoch: 88/100. Classification loss: 0.00738. Regression loss: 0.03874. Total loss: 0.04612\n"
     ]
    },
    {
     "data": {
      "application/vnd.jupyter.widget-view+json": {
       "model_id": "938b9383c8b74ec68655491d9426cefe",
       "version_major": 2,
       "version_minor": 0
      },
      "text/plain": [
       "  0%|          | 0/174 [00:00<?, ?it/s]"
      ]
     },
     "metadata": {},
     "output_type": "display_data"
    },
    {
     "name": "stdout",
     "output_type": "stream",
     "text": [
      "Adjusted LR: 5.00e-05\n",
      "Epoch: 89/100. Classification loss: 0.00718. Regression loss: 0.04025. Total loss: 0.04743\n"
     ]
    },
    {
     "data": {
      "application/vnd.jupyter.widget-view+json": {
       "model_id": "5cc80cb3e1a349bd9ba17787965b70c5",
       "version_major": 2,
       "version_minor": 0
      },
      "text/plain": [
       "  0%|          | 0/174 [00:00<?, ?it/s]"
      ]
     },
     "metadata": {},
     "output_type": "display_data"
    },
    {
     "name": "stdout",
     "output_type": "stream",
     "text": [
      "Adjusted LR: 5.00e-05\n",
      "Epoch: 90/100. Classification loss: 0.00543. Regression loss: 0.03905. Total loss: 0.04449\n"
     ]
    },
    {
     "data": {
      "application/vnd.jupyter.widget-view+json": {
       "model_id": "c2a146efe63144d2a374eba70fc48e40",
       "version_major": 2,
       "version_minor": 0
      },
      "text/plain": [
       "  0%|          | 0/174 [00:00<?, ?it/s]"
      ]
     },
     "metadata": {},
     "output_type": "display_data"
    },
    {
     "name": "stdout",
     "output_type": "stream",
     "text": [
      "Adjusted LR: 5.00e-05\n",
      "Epoch: 91/100. Classification loss: 0.00731. Regression loss: 0.03977. Total loss: 0.04707\n"
     ]
    },
    {
     "data": {
      "application/vnd.jupyter.widget-view+json": {
       "model_id": "68786bee3dbf42b392f28003bad5c66a",
       "version_major": 2,
       "version_minor": 0
      },
      "text/plain": [
       "  0%|          | 0/174 [00:00<?, ?it/s]"
      ]
     },
     "metadata": {},
     "output_type": "display_data"
    },
    {
     "name": "stdout",
     "output_type": "stream",
     "text": [
      "Adjusted LR: 5.00e-05\n",
      "Epoch: 92/100. Classification loss: 0.00627. Regression loss: 0.03944. Total loss: 0.04571\n"
     ]
    },
    {
     "data": {
      "application/vnd.jupyter.widget-view+json": {
       "model_id": "5cabd19673454a228493ab711f32eca3",
       "version_major": 2,
       "version_minor": 0
      },
      "text/plain": [
       "  0%|          | 0/174 [00:00<?, ?it/s]"
      ]
     },
     "metadata": {},
     "output_type": "display_data"
    },
    {
     "name": "stdout",
     "output_type": "stream",
     "text": [
      "Adjusted LR: 5.00e-05\n",
      "Epoch: 93/100. Classification loss: 0.00657. Regression loss: 0.03965. Total loss: 0.04622\n"
     ]
    },
    {
     "data": {
      "application/vnd.jupyter.widget-view+json": {
       "model_id": "9d4a3fa5d236434c8d77e966f737a061",
       "version_major": 2,
       "version_minor": 0
      },
      "text/plain": [
       "  0%|          | 0/174 [00:00<?, ?it/s]"
      ]
     },
     "metadata": {},
     "output_type": "display_data"
    },
    {
     "name": "stdout",
     "output_type": "stream",
     "text": [
      "Adjusted LR: 5.00e-05\n",
      "Epoch: 94/100. Classification loss: 0.00622. Regression loss: 0.03913. Total loss: 0.04535\n"
     ]
    },
    {
     "data": {
      "application/vnd.jupyter.widget-view+json": {
       "model_id": "b7b4bdbf691b44a68dcbcd8dec673e09",
       "version_major": 2,
       "version_minor": 0
      },
      "text/plain": [
       "  0%|          | 0/174 [00:00<?, ?it/s]"
      ]
     },
     "metadata": {},
     "output_type": "display_data"
    },
    {
     "name": "stdout",
     "output_type": "stream",
     "text": [
      "Adjusted LR: 5.00e-05\n",
      "Epoch: 95/100. Classification loss: 0.00969. Regression loss: 0.03948. Total loss: 0.04917\n"
     ]
    },
    {
     "data": {
      "application/vnd.jupyter.widget-view+json": {
       "model_id": "61a1ae0db2904c18ba1e564d2b5b6e2d",
       "version_major": 2,
       "version_minor": 0
      },
      "text/plain": [
       "  0%|          | 0/174 [00:00<?, ?it/s]"
      ]
     },
     "metadata": {},
     "output_type": "display_data"
    },
    {
     "name": "stdout",
     "output_type": "stream",
     "text": [
      "Adjusted LR: 5.00e-05\n",
      "Epoch: 96/100. Classification loss: 0.00964. Regression loss: 0.03815. Total loss: 0.04779\n"
     ]
    },
    {
     "data": {
      "application/vnd.jupyter.widget-view+json": {
       "model_id": "f48c30d574dc4979a3d03291f19a6b4e",
       "version_major": 2,
       "version_minor": 0
      },
      "text/plain": [
       "  0%|          | 0/174 [00:00<?, ?it/s]"
      ]
     },
     "metadata": {},
     "output_type": "display_data"
    },
    {
     "name": "stdout",
     "output_type": "stream",
     "text": [
      "Adjusted LR: 5.00e-05\n",
      "Epoch: 97/100. Classification loss: 0.00640. Regression loss: 0.03908. Total loss: 0.04548\n"
     ]
    },
    {
     "data": {
      "application/vnd.jupyter.widget-view+json": {
       "model_id": "de0e0c8d02f1497dab2c92c3d2f7c57a",
       "version_major": 2,
       "version_minor": 0
      },
      "text/plain": [
       "  0%|          | 0/174 [00:00<?, ?it/s]"
      ]
     },
     "metadata": {},
     "output_type": "display_data"
    },
    {
     "name": "stdout",
     "output_type": "stream",
     "text": [
      "Adjusted LR: 5.00e-05\n",
      "Epoch: 98/100. Classification loss: 0.00557. Regression loss: 0.03778. Total loss: 0.04334\n"
     ]
    },
    {
     "data": {
      "application/vnd.jupyter.widget-view+json": {
       "model_id": "b2b9081bb3dd49369effe50f218307c8",
       "version_major": 2,
       "version_minor": 0
      },
      "text/plain": [
       "  0%|          | 0/174 [00:00<?, ?it/s]"
      ]
     },
     "metadata": {},
     "output_type": "display_data"
    },
    {
     "name": "stdout",
     "output_type": "stream",
     "text": [
      "Adjusted LR: 5.00e-05\n",
      "Epoch: 99/100. Classification loss: 0.00692. Regression loss: 0.03879. Total loss: 0.04571\n"
     ]
    },
    {
     "data": {
      "application/vnd.jupyter.widget-view+json": {
       "model_id": "4606803c4a9f40b4b3befabb273cfbdf",
       "version_major": 2,
       "version_minor": 0
      },
      "text/plain": [
       "  0%|          | 0/174 [00:00<?, ?it/s]"
      ]
     },
     "metadata": {},
     "output_type": "display_data"
    },
    {
     "name": "stdout",
     "output_type": "stream",
     "text": [
      "Adjusted LR: 5.00e-05\n",
      "Epoch: 100/100. Classification loss: 0.00675. Regression loss: 0.03846. Total loss: 0.04521\n"
     ]
    }
   ],
   "source": [
    "%run train.py --batch_size 2 --lr 5e-4 --num_epochs 100"
   ]
  },
  {
   "cell_type": "markdown",
   "id": "91e1f35c",
   "metadata": {},
   "source": [
    "### Evaluation of model"
   ]
  },
  {
   "cell_type": "code",
   "execution_count": 8,
   "id": "1d1f0683",
   "metadata": {},
   "outputs": [
    {
     "name": "stdout",
     "output_type": "stream",
     "text": [
      "Evaluating on device: cuda\n",
      "loading annotations into memory...\n",
      "Done (t=0.00s)\n",
      "creating index...\n",
      "index created!\n",
      "Loading and preparing results...\n",
      "DONE (t=0.02s)\n",
      "creating index...\n",
      "index created!\n",
      "Running per image evaluation...\n",
      "Evaluate annotation type *bbox*\n",
      "DONE (t=0.01s).\n",
      "Accumulating evaluation results...\n",
      "DONE (t=0.01s).\n",
      "\n",
      "Per-class COCO metrics:\n",
      "\n",
      "| Class    |   Images |   Instances |   Box (P) |   R |   mAP50 |   mAP50–95 |\n",
      "|:---------|---------:|------------:|----------:|----:|--------:|-----------:|\n",
      "| tortoise |       54 |          54 |         1 |   1 |       1 |   0.973464 |\n",
      "| donkey   |       40 |          40 |         1 |   1 |       1 |   0.958029 |\n",
      "\n"
     ]
    }
   ],
   "source": [
    "!python eval.py"
   ]
  },
  {
   "cell_type": "markdown",
   "id": "36d69a3f",
   "metadata": {},
   "source": [
    "### 1.3. Demonstrate the Model in a Realistic Scenario\n",
    "\n",
    "The client has deliberately requested only a small test set. Instead, they require a finaldemonstration showing object  etection on a continuous data stream. You are free to decide (depending on your chosen approach) whether this demonstration is based on video analysis or a live demo. In both cases, the results must be representative of the intended real-world application.\n",
    "\n",
    "Requirements for the demo:\n",
    "\n",
    "• Detected objects must be enclosed in visible bounding boxes with class prediction\n",
    "\n",
    "• The model must detect each object from all possible perspectives (except from underneath, as described above)\n",
    "\n",
    "• Detection must be continuous"
   ]
  },
  {
   "cell_type": "markdown",
   "id": "1c9fac41",
   "metadata": {},
   "source": [
    "### Inference \n",
    "\n",
    "To test our trained model in a real-world scenario, we created a video simulating a conveyor belt with toy objects. The goal was to run inference on this video using our EfficientDet-D0 model.\n",
    "\n",
    "Run the code below to perform inference on the video.\n",
    "\n",
    "Make sure to check the **output video** to see the detection results — it will be saved automatically after processing.\n"
   ]
  },
  {
   "cell_type": "code",
   "execution_count": 10,
   "id": "410ce39f",
   "metadata": {},
   "outputs": [],
   "source": [
    "%run infer.py --pretrained_model trained_models/toys_effdet.pth --input Inference_Video.mp4 --output Output.mp4"
   ]
  },
  {
   "cell_type": "markdown",
   "id": "2cb540be",
   "metadata": {},
   "source": [
    "<h1 style=\"text-align:center;\">The End</h1>\n"
   ]
  }
 ],
 "metadata": {
  "kernelspec": {
   "display_name": "Python 3",
   "language": "python",
   "name": "python3"
  },
  "language_info": {
   "codemirror_mode": {
    "name": "ipython",
    "version": 3
   },
   "file_extension": ".py",
   "mimetype": "text/x-python",
   "name": "python",
   "nbconvert_exporter": "python",
   "pygments_lexer": "ipython3",
   "version": "3.13.2"
  }
 },
 "nbformat": 4,
 "nbformat_minor": 5
}
