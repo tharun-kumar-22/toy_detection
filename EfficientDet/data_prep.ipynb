{
 "cells": [
  {
   "cell_type": "code",
   "execution_count": 1,
   "id": "eb3ca636",
   "metadata": {},
   "outputs": [],
   "source": [
    "#!/usr/bin/env python3\n",
    "import os\n",
    "import glob\n",
    "import json\n",
    "import shutil\n",
    "import xml.etree.ElementTree as ET"
   ]
  },
  {
   "cell_type": "code",
   "execution_count": 2,
   "id": "2e620ae6",
   "metadata": {},
   "outputs": [],
   "source": [
    "# === User-configurable settings ===\n",
    "CLASS_LIST = [\"tortoise\", \"donkey\"]  # Update with your classes\n",
    "SPLITS = [\"train\", \"val\", \"test\"]\n",
    "DATA_ROOT = \"data\"              # Root folder containing train/, val/, test/\n",
    "ANNOTATIONS_DIR = \"annotations\" # Folder containing all XML annotation files\n",
    "COCO_ROOT = os.path.join(DATA_ROOT, \"COCO\")  # Output COCO directory structure"
   ]
  },
  {
   "cell_type": "code",
   "execution_count": 3,
   "id": "3637b1bc",
   "metadata": {},
   "outputs": [],
   "source": [
    "# === Helper functions ===\n",
    "def ensure_dirs_exist(path):\n",
    "    os.makedirs(path, exist_ok=True)"
   ]
  },
  {
   "cell_type": "code",
   "execution_count": 4,
   "id": "ab87c5c6",
   "metadata": {},
   "outputs": [],
   "source": [
    "def copy_images(split):\n",
    "    \"\"\"Copy images from data/<split>/ to COCO structure.\"\"\"\n",
    "    src_dir = os.path.join(DATA_ROOT, split)\n",
    "    dst_dir = os.path.join(COCO_ROOT, \"images\", f\"{split}2017\")\n",
    "    ensure_dirs_exist(dst_dir)\n",
    "    for img_file in glob.glob(os.path.join(src_dir, \"*.*\")):\n",
    "        shutil.copy(img_file, dst_dir)\n",
    "    print(f\"Copied {len(os.listdir(dst_dir))} images for split '{split}'\")\n",
    "    return dst_dir"
   ]
  },
  {
   "cell_type": "code",
   "execution_count": 5,
   "id": "15d258d8",
   "metadata": {},
   "outputs": [],
   "source": [
    "def parse_voc_xml(xml_file, class_list):\n",
    "    \"\"\"Parse one VOC XML file to extract width, height, and object bboxes.\"\"\"\n",
    "    tree = ET.parse(xml_file)\n",
    "    root = tree.getroot()\n",
    "    size = root.find(\"size\")\n",
    "    width = int(size.findtext(\"width\"))\n",
    "    height = int(size.findtext(\"height\"))\n",
    "    objects = []\n",
    "    for obj in root.findall(\"object\"):\n",
    "        cls = obj.findtext(\"name\")\n",
    "        if cls not in class_list:\n",
    "            continue\n",
    "        cat_id = class_list.index(cls) + 1\n",
    "        bnd = obj.find(\"bndbox\")\n",
    "        xmin = int(bnd.findtext(\"xmin\"))\n",
    "        ymin = int(bnd.findtext(\"ymin\"))\n",
    "        xmax = int(bnd.findtext(\"xmax\"))\n",
    "        ymax = int(bnd.findtext(\"ymax\"))\n",
    "        w = xmax - xmin\n",
    "        h = ymax - ymin\n",
    "        objects.append({\n",
    "            \"category_id\": cat_id,\n",
    "            \"bbox\": [xmin, ymin, w, h],\n",
    "            \"area\": w * h,\n",
    "            \"iscrowd\": 0\n",
    "        })\n",
    "    return width, height, objects"
   ]
  },
  {
   "cell_type": "code",
   "execution_count": 6,
   "id": "03b8bc4a",
   "metadata": {},
   "outputs": [],
   "source": [
    "def build_coco_data(split):\n",
    "    \"\"\"\n",
    "    Build COCO 'images' and 'annotations' lists by matching images in a split\n",
    "    with XMLs in the annotations folder.\n",
    "    \"\"\"\n",
    "    images = []\n",
    "    annotations = []\n",
    "    ann_id = 1\n",
    "    img_dir = os.path.join(DATA_ROOT, split)\n",
    "    xml_dir = os.path.join(DATA_ROOT, ANNOTATIONS_DIR)\n",
    "\n",
    "    # For each image in the split folder\n",
    "    for img_id, img_path in enumerate(glob.glob(os.path.join(img_dir, \"*.*\")), start=1):\n",
    "        filename = os.path.basename(img_path)\n",
    "        name, _ = os.path.splitext(filename)\n",
    "        xml_path = os.path.join(xml_dir, f\"{name}.xml\")\n",
    "        if not os.path.exists(xml_path):\n",
    "            print(f\"Warning: Annotation missing for {filename}, skipping. {name} {xml_path}\")\n",
    "            continue\n",
    "        width, height, objs = parse_voc_xml(xml_path, CLASS_LIST)\n",
    "        images.append({\"id\": img_id, \"file_name\": filename, \"width\": width, \"height\": height})\n",
    "        for obj in objs:\n",
    "            obj.update({\"id\": ann_id, \"image_id\": img_id})\n",
    "            annotations.append(obj)\n",
    "            ann_id += 1\n",
    "\n",
    "    return images, annotations"
   ]
  },
  {
   "cell_type": "code",
   "execution_count": 7,
   "id": "0a9ed5fc",
   "metadata": {},
   "outputs": [],
   "source": [
    "def write_coco_json(split, images, annotations):\n",
    "    \"\"\"Write COCO JSON file for a given split.\"\"\"\n",
    "    ann_dir = os.path.join(COCO_ROOT, \"annotations\")\n",
    "    ensure_dirs_exist(ann_dir)\n",
    "    categories = [{\"id\": idx+1, \"name\": name, \"supercategory\": \"none\"}\n",
    "                  for idx, name in enumerate(CLASS_LIST)]\n",
    "    coco = {\"images\": images, \"annotations\": annotations, \"categories\": categories}\n",
    "    json_path = os.path.join(ann_dir, f\"instances_{split}2017.json\")\n",
    "    with open(json_path, \"w\") as f:\n",
    "        json.dump(coco, f, indent=2)\n",
    "    print(f\"Wrote COCO JSON: {json_path} with {len(images)} images and {len(annotations)} annotations.\")"
   ]
  },
  {
   "cell_type": "code",
   "execution_count": 8,
   "id": "db660398",
   "metadata": {},
   "outputs": [],
   "source": [
    "def convert_split(split):\n",
    "    print(f\"--- Converting split: {split} ---\")\n",
    "    copy_images(split)\n",
    "    images, annotations = build_coco_data(split)\n",
    "    write_coco_json(split, images, annotations)"
   ]
  },
  {
   "cell_type": "code",
   "execution_count": 9,
   "id": "54a3195a",
   "metadata": {},
   "outputs": [],
   "source": [
    "def main():\n",
    "    ensure_dirs_exist(os.path.join(COCO_ROOT, \"images\"))\n",
    "    for split in SPLITS:\n",
    "        convert_split(split)\n",
    "    print(\"All splits converted.\")"
   ]
  },
  {
   "cell_type": "code",
   "execution_count": 10,
   "id": "4ce71116",
   "metadata": {},
   "outputs": [
    {
     "name": "stdout",
     "output_type": "stream",
     "text": [
      "--- Converting split: train ---\n",
      "Copied 349 images for split 'train'\n",
      "Wrote COCO JSON: data/COCO/annotations/instances_train2017.json with 349 images and 435 annotations.\n",
      "--- Converting split: val ---\n",
      "Copied 75 images for split 'val'\n",
      "Wrote COCO JSON: data/COCO/annotations/instances_val2017.json with 75 images and 94 annotations.\n",
      "--- Converting split: test ---\n",
      "Copied 75 images for split 'test'\n",
      "Wrote COCO JSON: data/COCO/annotations/instances_test2017.json with 75 images and 96 annotations.\n",
      "All splits converted.\n"
     ]
    }
   ],
   "source": [
    "main()"
   ]
  },
  {
   "cell_type": "code",
   "execution_count": null,
   "id": "29c449e9",
   "metadata": {},
   "outputs": [],
   "source": []
  }
 ],
 "metadata": {
  "kernelspec": {
   "display_name": "env",
   "language": "python",
   "name": "python3"
  },
  "language_info": {
   "codemirror_mode": {
    "name": "ipython",
    "version": 3
   },
   "file_extension": ".py",
   "mimetype": "text/x-python",
   "name": "python",
   "nbconvert_exporter": "python",
   "pygments_lexer": "ipython3",
   "version": "3.13.2"
  }
 },
 "nbformat": 4,
 "nbformat_minor": 5
}
